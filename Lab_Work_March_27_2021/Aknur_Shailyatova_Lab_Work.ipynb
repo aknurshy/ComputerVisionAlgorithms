{
 "cells": [
  {
   "cell_type": "markdown",
   "metadata": {},
   "source": [
    "## Задача №1"
   ]
  },
  {
   "cell_type": "code",
   "execution_count": 1,
   "metadata": {},
   "outputs": [],
   "source": [
    "def solution1(N):\n",
    "    max_zero = 0\n",
    "    #convert into binary\n",
    "    nbin = bin(N)[2:]\n",
    "#     print(nbin)\n",
    "    #split and remove empties left after 1s\n",
    "    nsplit = list(filter(None, nbin.split('1')))\n",
    "#     print(nsplit)\n",
    "    #if the last item is not 1\n",
    "    if nbin[-1] != '1': \n",
    "        #if length of splitted N is more than 1\n",
    "        if len(nsplit) > 1:\n",
    "            #return max number of zeroes\n",
    "            return len(max(nsplit[:-1], key = len))\n",
    "        else: return 0\n",
    "    #if after removing splitted N length is 0 return 0\n",
    "    elif len(nsplit) == 0: return 0\n",
    "    #else return max number of zeroes\n",
    "    else: return len(max(nsplit, key = len))"
   ]
  },
  {
   "cell_type": "code",
   "execution_count": 2,
   "metadata": {},
   "outputs": [
    {
     "name": "stdout",
     "output_type": "stream",
     "text": [
      "2 in 9\n",
      "4 in 529\n",
      "1 in 20\n",
      "0 in 15\n",
      "0 in 32\n",
      "5 in 1041\n",
      "3 in 5041\n"
     ]
    }
   ],
   "source": [
    "print(solution1(9), 'in 9')\n",
    "print(solution1(529), 'in 529')\n",
    "print(solution1(20), 'in 20')\n",
    "print(solution1(15), 'in 15')\n",
    "print(solution1(32), 'in 32')\n",
    "print(solution1(1041), 'in 1041')\n",
    "print(solution1(5041), 'in 5041')"
   ]
  },
  {
   "cell_type": "markdown",
   "metadata": {},
   "source": [
    "## Задача №2"
   ]
  },
  {
   "cell_type": "code",
   "execution_count": 3,
   "metadata": {},
   "outputs": [],
   "source": [
    "from bisect import bisect_right\n",
    "\n",
    "def solution2(A):\n",
    "    intersections = 0\n",
    "    #count disk intervals, where i is center, i - A[i] is start, i + A[i] is end of the disks\n",
    "    edge_intervals = sorted( [(i - A[i], i + A[i]) for i in range(len(A))] )\n",
    "    #list of starts of the disks\n",
    "    disk_starts = [i[0] for i in edge_intervals]\n",
    "    for i in range(len(disk_starts)):\n",
    "        #take disk ends from edge_intervals list\n",
    "        disk_ends = edge_intervals[i][1]\n",
    "        #count number of disks using bisect_right, which have starts before the i disk ends\n",
    "        count = bisect_right(disk_starts, disk_ends)\n",
    "        count = count - (i + 1)\n",
    "        intersections = count + intersections \n",
    "        if intersections > 10000000: return -1\n",
    "    return intersections"
   ]
  },
  {
   "cell_type": "code",
   "execution_count": 36,
   "metadata": {},
   "outputs": [
    {
     "name": "stdout",
     "output_type": "stream",
     "text": [
      "Number of intersections is 11\n"
     ]
    }
   ],
   "source": [
    "A = [1,5,2,1,4,0]\n",
    "print('Number of intersections is', solution2(A))"
   ]
  },
  {
   "cell_type": "markdown",
   "metadata": {},
   "source": [
    "## Задача №3"
   ]
  },
  {
   "cell_type": "code",
   "execution_count": 56,
   "metadata": {},
   "outputs": [],
   "source": [
    "def solution3(A):\n",
    "    unique = set()\n",
    "    #if length of A is not an even number then check\n",
    "    if len(A) % 2 > 0:\n",
    "        for i in A:\n",
    "            #if item from A list in set remove this item\n",
    "            if i in unique:\n",
    "                unique.remove(i)\n",
    "            #if item from A list is not in set add this item\n",
    "            elif i not in unique:\n",
    "                unique.add(i)\n",
    "        #if unique is non empty return unique item\n",
    "        if len(unique) > 0: return unique.pop()\n",
    "    else: return None"
   ]
  },
  {
   "cell_type": "code",
   "execution_count": 57,
   "metadata": {},
   "outputs": [
    {
     "name": "stdout",
     "output_type": "stream",
     "text": [
      "Unique item in A list is 7\n",
      "Unique item in B list is 1\n",
      "Unique item in C list is None\n"
     ]
    }
   ],
   "source": [
    "A = [9,3,9,3,9,7,9]\n",
    "B = [2,3,4,5,4,5,3,2,1] \n",
    "C = [9,3,9,3,5,5]\n",
    "print('Unique item in A list is', solution3(A))\n",
    "print('Unique item in B list is', solution3(B))\n",
    "print('Unique item in C list is', solution3(C))"
   ]
  },
  {
   "cell_type": "markdown",
   "metadata": {},
   "source": [
    "## Задача №4"
   ]
  },
  {
   "cell_type": "code",
   "execution_count": 65,
   "metadata": {},
   "outputs": [],
   "source": [
    "def solution4(A,B):\n",
    "    downDir = []\n",
    "    upDir = []\n",
    "    for i in range(len(A)):\n",
    "        fishDir = B[i]\n",
    "        if fishDir == 0:\n",
    "            while len(downDir) > 0:\n",
    "                point = downDir.pop()\n",
    "                if point > A[i]:\n",
    "                    downDir.append(point)\n",
    "                    break\n",
    "            if len(downDir) == 0:\n",
    "                upDir.append(A[i])\n",
    "        else: downDir.append(A[i])\n",
    "    return len(downDir) + len(upDir)"
   ]
  },
  {
   "cell_type": "code",
   "execution_count": 66,
   "metadata": {},
   "outputs": [
    {
     "data": {
      "text/plain": [
       "2"
      ]
     },
     "execution_count": 66,
     "metadata": {},
     "output_type": "execute_result"
    }
   ],
   "source": [
    "A = [4,3,2,1,5]\n",
    "B = [0,1,0,0,0]\n",
    "solution4(A,B)"
   ]
  }
 ],
 "metadata": {
  "kernelspec": {
   "display_name": "Python 3",
   "language": "python",
   "name": "python3"
  },
  "language_info": {
   "codemirror_mode": {
    "name": "ipython",
    "version": 3
   },
   "file_extension": ".py",
   "mimetype": "text/x-python",
   "name": "python",
   "nbconvert_exporter": "python",
   "pygments_lexer": "ipython3",
   "version": "3.7.3"
  }
 },
 "nbformat": 4,
 "nbformat_minor": 2
}
